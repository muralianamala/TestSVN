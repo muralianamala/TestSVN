{
  "nbformat": 4,
  "nbformat_minor": 0,
  "metadata": {
    "colab": {
      "provenance": [],
      "authorship_tag": "ABX9TyO0NxixSS8WZSk15ObXxhgX",
      "include_colab_link": true
    },
    "kernelspec": {
      "name": "python3",
      "display_name": "Python 3"
    },
    "language_info": {
      "name": "python"
    }
  },
  "cells": [
    {
      "cell_type": "markdown",
      "metadata": {
        "id": "view-in-github",
        "colab_type": "text"
      },
      "source": [
        "<a href=\"https://colab.research.google.com/github/muralianamala/TestSVN/blob/main/day1.ipynb\" target=\"_parent\"><img src=\"https://colab.research.google.com/assets/colab-badge.svg\" alt=\"Open In Colab\"/></a>"
      ]
    },
    {
      "cell_type": "code",
      "execution_count": 1,
      "metadata": {
        "id": "my6w2L56kCPR"
      },
      "outputs": [],
      "source": [
        "#1980 Guido van Rossum"
      ]
    },
    {
      "cell_type": "code",
      "source": [
        "print(\"hello world\")"
      ],
      "metadata": {
        "colab": {
          "base_uri": "https://localhost:8080/"
        },
        "id": "6NIPu4BJksaB",
        "outputId": "81a45d3c-b358-4cb7-abe2-edf62deff2d9"
      },
      "execution_count": 2,
      "outputs": [
        {
          "output_type": "stream",
          "name": "stdout",
          "text": [
            "hello world\n"
          ]
        }
      ]
    },
    {
      "cell_type": "code",
      "source": [
        "#python versions\n",
        "# version 0.9 - 1991\n",
        "#version 3.9 -> 2020\n",
        "\n",
        "#advantages of learning python\n",
        "#applications of python (chrome,mozilla, reddit, instagram)\n",
        "#time player - application written in python"
      ],
      "metadata": {
        "id": "VnYYYM8gk1R-"
      },
      "execution_count": null,
      "outputs": []
    },
    {
      "cell_type": "code",
      "source": [
        "# datatypes\n",
        "# int, float, decimal, string, boolean, bite, byte, complex\n",
        "comp = 10+5j\n",
        "print(comp.real)\n",
        "print(comp.imag)"
      ],
      "metadata": {
        "colab": {
          "base_uri": "https://localhost:8080/"
        },
        "id": "1PsxTdSipS5R",
        "outputId": "747f20e0-dd0a-4e06-fd0c-aedea6c4cf2e"
      },
      "execution_count": 5,
      "outputs": [
        {
          "output_type": "stream",
          "name": "stdout",
          "text": [
            "10.0\n",
            "5.0\n"
          ]
        }
      ]
    },
    {
      "cell_type": "code",
      "source": [
        "#variables\n",
        "# where we can store data into it\n",
        "# global variables\n",
        "# local variables\n"
      ],
      "metadata": {
        "id": "-FxdfXXRpl0d"
      },
      "execution_count": null,
      "outputs": []
    },
    {
      "cell_type": "code",
      "source": [
        "# different type of variable and datatypes\n",
        "#sequence type\n",
        "lis=[1,2,3,4]\n",
        "tup=(1,2,3,4)\n",
        "\n",
        "#mapping type (dictionaries)\n",
        "dic={\"name\":\"value\"}\n",
        "\n",
        "#set types\n",
        "set1={1,2,3,4}\n",
        "#binary type\n",
        "x=b'hello'\n",
        "x=bytearray(5)\n",
        "x=memoryview(bytes(4))"
      ],
      "metadata": {
        "colab": {
          "base_uri": "https://localhost:8080/",
          "height": 211
        },
        "id": "G2d1JCrnqtR8",
        "outputId": "c9f82233-60bb-45d3-bfad-b9e690e4bd0c"
      },
      "execution_count": 6,
      "outputs": [
        {
          "output_type": "error",
          "ename": "NameError",
          "evalue": "ignored",
          "traceback": [
            "\u001b[0;31m---------------------------------------------------------------------------\u001b[0m",
            "\u001b[0;31mNameError\u001b[0m                                 Traceback (most recent call last)",
            "\u001b[0;32m<ipython-input-6-80bc1b42f7cb>\u001b[0m in \u001b[0;36m<cell line: 13>\u001b[0;34m()\u001b[0m\n\u001b[1;32m     11\u001b[0m \u001b[0;31m#binary type\u001b[0m\u001b[0;34m\u001b[0m\u001b[0;34m\u001b[0m\u001b[0m\n\u001b[1;32m     12\u001b[0m \u001b[0mx\u001b[0m\u001b[0;34m=\u001b[0m\u001b[0;34mb'hello'\u001b[0m\u001b[0;34m\u001b[0m\u001b[0;34m\u001b[0m\u001b[0m\n\u001b[0;32m---> 13\u001b[0;31m \u001b[0mx\u001b[0m\u001b[0;34m=\u001b[0m\u001b[0mbarra\u001b[0m\u001b[0;34m\u001b[0m\u001b[0;34m\u001b[0m\u001b[0m\n\u001b[0m",
            "\u001b[0;31mNameError\u001b[0m: name 'barra' is not defined"
          ]
        }
      ]
    },
    {
      "cell_type": "code",
      "source": [
        "#type conversion\n",
        "#explicit\n",
        "a=3\n",
        "c=float(a)\n",
        "print(c)\n",
        "\n",
        "#implicit\n",
        "a1=3\n",
        "b1=4.0\n",
        "c1=a1+b1\n",
        "print(c1)"
      ],
      "metadata": {
        "colab": {
          "base_uri": "https://localhost:8080/"
        },
        "id": "0ygSrt39rk6_",
        "outputId": "b7309ee6-06b0-49af-d33b-b651086666c0"
      },
      "execution_count": 7,
      "outputs": [
        {
          "output_type": "stream",
          "name": "stdout",
          "text": [
            "3.0\n",
            "7.0\n"
          ]
        }
      ]
    },
    {
      "cell_type": "code",
      "source": [],
      "metadata": {
        "id": "p1ce3VyMr68j"
      },
      "execution_count": null,
      "outputs": []
    }
  ]
}